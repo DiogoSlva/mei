{
 "cells": [
  {
   "cell_type": "code",
   "execution_count": 2,
   "metadata": {},
   "outputs": [],
   "source": [
    "import pandas as pd\n",
    "import numpy as np  \n",
    "import matplotlib.pyplot as plt\n",
    "from sklearn.linear_model import LogisticRegression\n",
    "from sklearn.metrics import f1_score, roc_curve, auc\n",
    "from sklearn.model_selection import train_test_split\n",
    "from sklearn.metrics import accuracy_score\n",
    "from sklearn.metrics import confusion_matrix\n",
    "from sklearn.metrics import classification_report\n",
    "from sklearn import preprocessing\n",
    "from sklearn.preprocessing import StandardScaler\n",
    "from sklearn.preprocessing import MinMaxScaler\n",
    "from sklearn.preprocessing import RobustScaler\n"
   ]
  },
  {
   "cell_type": "markdown",
   "metadata": {},
   "source": [
    "# Exercício 1 "
   ]
  },
  {
   "cell_type": "markdown",
   "metadata": {},
   "source": [
    "* ## Exercício 1.1"
   ]
  },
  {
   "cell_type": "code",
   "execution_count": 15,
   "metadata": {},
   "outputs": [
    {
     "name": "stdout",
     "output_type": "stream",
     "text": [
      "1.0\n"
     ]
    }
   ],
   "source": [
    "data = 'Dataset/Grade_Set_1_Classification.csv'\n",
    "df = pd.read_csv(data)\n",
    "\n",
    "independent_variables = ['Hours_Studied']\n",
    "x = df[independent_variables]\n",
    "y = df['Result']\n",
    "# instantiate logit model\n",
    "model = LogisticRegression()\n",
    "model = model.fit(x, y)\n",
    "# check the accuracy\n",
    "print(model.score(x, y))"
   ]
  },
  {
   "cell_type": "markdown",
   "metadata": {},
   "source": [
    "* ## Exercício 1.2"
   ]
  },
  {
   "cell_type": "code",
   "execution_count": 16,
   "metadata": {},
   "outputs": [
    {
     "name": "stdout",
     "output_type": "stream",
     "text": [
      "Predict probability: [0.05367217 0.1531245  0.36565321 0.64759435 0.85419303 0.94917793\n",
      " 0.98348214 0.99475932 0.99835019]\n",
      "Predicted class: [0 0 0 1 1 1 1 1 1]\n"
     ]
    },
    {
     "data": {
      "image/png": "[encoded data removed]",
      "text/plain": [
       "<Figure size 640x480 with 1 Axes>"
      ]
     },
     "metadata": {},
     "output_type": "display_data"
    }
   ],
   "source": [
    "# predict probability\n",
    "print('Predict probability:', model.predict_proba(x)[:, 1])\n",
    "# predict outcome (y = 1 or y = 0)\n",
    "print('Predicted class:', model.predict(x))\n",
    "# plot fitted line\n",
    "plt.scatter(df.Hours_Studied, y)\n",
    "plt.yticks([0.0, 0.5, 1.0])\n",
    "plt.plot(df.Hours_Studied, model.predict_proba(x)[:, 1], color='red')\n",
    "plt.title('Hours studied vs Result')\n",
    "plt.ylabel('Result')\n",
    "plt.xlabel('Hours Studied')\n",
    "plt.savefig('logistic_trained.pdf')\n",
    "plt.show()"
   ]
  },
  {
   "cell_type": "markdown",
   "metadata": {},
   "source": [
    "* ## Exercício 1.3"
   ]
  },
  {
   "cell_type": "code",
   "execution_count": 19,
   "metadata": {},
   "outputs": [
    {
     "name": "stdout",
     "output_type": "stream",
     "text": [
      "Confusion Matrix:\n",
      "[[3 0]\n",
      " [0 6]]\n",
      "Score: 1.0\n"
     ]
    }
   ],
   "source": [
    "# generate predictions\n",
    "y_pred = model.predict(x)\n",
    "\n",
    "# create confusion matrix\n",
    "conf_matrix = confusion_matrix(y, y_pred)\n",
    "print('Confusion Matrix:')\n",
    "print(conf_matrix)\n",
    "\n",
    "data = 'Dataset/Grade_Set_1_Classification.csv'\n",
    "df = pd.read_csv(data)\n",
    "\n",
    "independent_variables = ['Hours_Studied']\n",
    "x = df[independent_variables]\n",
    "y = df['Result']\n",
    "\n",
    "# instantiate logit model\n",
    "model = LogisticRegression()\n",
    "model = model.fit(x, y)\n",
    "\n",
    "# check the accuracy\n",
    "print(f'Score: {model.score(x, y)}')"
   ]
  },
  {
   "cell_type": "markdown",
   "metadata": {},
   "source": [
    "# Exercício 2 "
   ]
  },
  {
   "cell_type": "markdown",
   "metadata": {},
   "source": [
    "* ## Exercício 2.1"
   ]
  },
  {
   "cell_type": "code",
   "execution_count": null,
   "metadata": {},
   "outputs": [],
   "source": []
  },
  {
   "cell_type": "markdown",
   "metadata": {},
   "source": [
    "* ## Exercício 2.2"
   ]
  },
  {
   "cell_type": "markdown",
   "metadata": {},
   "source": [
    "* ## Exercício 2.3"
   ]
  },
  {
   "cell_type": "markdown",
   "metadata": {},
   "source": [
    "# Exercício 3 "
   ]
  },
  {
   "cell_type": "markdown",
   "metadata": {},
   "source": [
    "* ## Exercício 3.1"
   ]
  },
  {
   "cell_type": "markdown",
   "metadata": {},
   "source": [
    "* ## Exercício 3.2"
   ]
  },
  {
   "cell_type": "markdown",
   "metadata": {},
   "source": [
    "* ## Exercício 3.3"
   ]
  }
 ],
 "metadata": {
  "kernelspec": {
   "display_name": "Python 3",
   "language": "python",
   "name": "python3"
  },
  "language_info": {
   "codemirror_mode": {
    "name": "ipython",
    "version": 3
   },
   "file_extension": ".py",
   "mimetype": "text/x-python",
   "name": "python",
   "nbconvert_exporter": "python",
   "pygments_lexer": "ipython3",
   "version": "3.11.5"
  }
 },
 "nbformat": 4,
 "nbformat_minor": 2
}
